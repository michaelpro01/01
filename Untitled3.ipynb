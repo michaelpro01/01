{
  "nbformat": 4,
  "nbformat_minor": 0,
  "metadata": {
    "colab": {
      "provenance": [],
      "authorship_tag": "ABX9TyNcntRVi4Bs75AitIUsZuZz",
      "include_colab_link": true
    },
    "kernelspec": {
      "name": "python3",
      "display_name": "Python 3"
    },
    "language_info": {
      "name": "python"
    }
  },
  "cells": [
    {
      "cell_type": "markdown",
      "metadata": {
        "id": "view-in-github",
        "colab_type": "text"
      },
      "source": [
        "<a href=\"https://colab.research.google.com/github/michaelpro01/01/blob/main/Untitled3.ipynb\" target=\"_parent\"><img src=\"https://colab.research.google.com/assets/colab-badge.svg\" alt=\"Open In Colab\"/></a>"
      ]
    },
    {
      "cell_type": "code",
      "execution_count": 2,
      "metadata": {
        "colab": {
          "base_uri": "https://localhost:8080/"
        },
        "id": "jynRx3laBgaF",
        "outputId": "06a04817-36c4-4129-ad5a-0fa6cb6af621"
      },
      "outputs": [
        {
          "output_type": "stream",
          "name": "stdout",
          "text": [
            "antes da troca \n",
            "o valor das variaveis :  a=1, b=2\n",
            "primeira troca \n",
            "o valor das variaveis : a={a} b={b}\n",
            "segunda troca \n",
            "o valor das variáveis : a=1, b2\n"
          ]
        }
      ],
      "source": [
        "a,b = 1,2\n",
        "print('antes da troca ')\n",
        "print(f\"o valor das variaveis :  a={a}, b={b}\")\n",
        "# primeira troca\n",
        "temp =a\n",
        "a = b\n",
        "b = temp\n",
        "print('primeira troca ' )\n",
        "print(\"o valor das variaveis : a={a} b={b}\")\n",
        "# SEGUNDA TROCA\n",
        "a,b = b,a\n",
        "print('segunda troca ')\n",
        "print(f\"o valor das variáveis : a={a}, b{b}\")\n",
        "\n"
      ]
    }
  ]
}